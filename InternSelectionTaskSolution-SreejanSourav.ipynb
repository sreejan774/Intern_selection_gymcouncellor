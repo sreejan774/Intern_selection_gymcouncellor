{
 "cells": [
  {
   "cell_type": "markdown",
   "id": "2c945591",
   "metadata": {},
   "source": [
    "### Task 1"
   ]
  },
  {
   "cell_type": "code",
   "execution_count": 1,
   "id": "e3fe3af3",
   "metadata": {},
   "outputs": [],
   "source": [
    "import mysql.connector"
   ]
  },
  {
   "cell_type": "code",
   "execution_count": 2,
   "id": "0aa63d8f",
   "metadata": {},
   "outputs": [
    {
     "name": "stdout",
     "output_type": "stream",
     "text": [
      "<mysql.connector.connection_cext.CMySQLConnection object at 0x7f8ce4092910>\n"
     ]
    }
   ],
   "source": [
    "mydb = mysql.connector.connect(\n",
    "    host = \"hostname\",\n",
    "    user = \"abed\",\n",
    "    password = \"password\",\n",
    "    database = \"Company_details\"\n",
    ")\n",
    "\n",
    "print(mydb)"
   ]
  },
  {
   "cell_type": "code",
   "execution_count": 3,
   "id": "ca89ba43",
   "metadata": {},
   "outputs": [],
   "source": [
    "# takes the database object returned after connecting to database\n",
    "def fetchQueryResult(database):\n",
    "    mycursor = database.cursor()\n",
    "    # executing query upon database\n",
    "    mycursor.execute(\"SELECT sum(`Department`.`TOTAL_EMPLOYEES`) FROM `Department` INNER JOIN `Company` on `Department`.`COMPANY_CODE` = `Company`.`CODE` WHERE `Company`.`COUNTRY`='India'\")\n",
    "\n",
    "    # fetching the result of the query\n",
    "    mycursor = mycursor.fetchall()\n",
    "    for x in mycursor:\n",
    "        result = x\n",
    "\n",
    "    # returning the result\n",
    "    result = int(result[0])\n",
    "    return result\n"
   ]
  },
  {
   "cell_type": "markdown",
   "id": "716eaca1",
   "metadata": {},
   "source": [
    "#### Testing the function"
   ]
  },
  {
   "cell_type": "code",
   "execution_count": 4,
   "id": "826f502e",
   "metadata": {},
   "outputs": [],
   "source": [
    "num_of_employees = fetchQueryResult(mydb)"
   ]
  },
  {
   "cell_type": "code",
   "execution_count": 5,
   "id": "f1e415c0",
   "metadata": {},
   "outputs": [
    {
     "name": "stdout",
     "output_type": "stream",
     "text": [
      "220\n"
     ]
    }
   ],
   "source": [
    "print(num_of_employees)"
   ]
  },
  {
   "cell_type": "markdown",
   "id": "156d52bc",
   "metadata": {},
   "source": [
    "### Task 2"
   ]
  },
  {
   "cell_type": "code",
   "execution_count": 6,
   "id": "56f91bc2",
   "metadata": {},
   "outputs": [],
   "source": [
    "# Class Vehicle with color, price, max_speed as instance variables\n",
    "class Vehicle:\n",
    "    def __init__(self):\n",
    "        self.__color = \"red\"    # private variable of Vehicle class\n",
    "        self.__price = 500000   # private variable of Vehicle class\n",
    "        self.__max_speed = 200  # private variable of Vehicle class\n",
    "    \n",
    "    # getters for the instance variables \n",
    "    def getColor(self):\n",
    "        return self.__color\n",
    "    \n",
    "    def getPrice(self):\n",
    "        return self.__price\n",
    "    \n",
    "    def getMaxSpeed(self):\n",
    "        return self.__max_speed\n",
    "        "
   ]
  },
  {
   "cell_type": "code",
   "execution_count": 7,
   "id": "001a9fb7",
   "metadata": {},
   "outputs": [],
   "source": [
    "# Child class Car created \n",
    "class Car(Vehicle):\n",
    "    # Init takes only one parameter as mentioned in question\n",
    "    def __init__(self,num_of_tires):\n",
    "        self.num_of_tires = num_of_tires\n",
    "        # calling the __init__ method of parent class\n",
    "        super().__init__()\n",
    "    \n",
    "    # Instance method to print information of car\n",
    "    def printCar(self):\n",
    "        color = super().getColor()\n",
    "        price = super().getPrice()\n",
    "        max_speed = super().getMaxSpeed()\n",
    "        print(\"A\",color,\"colored car with a maximum speed of\",max_speed,\"km/h is priced at\",price,\"with\",self.num_of_tires,\"tires\")\n",
    "    "
   ]
  },
  {
   "cell_type": "markdown",
   "id": "caf8c77e",
   "metadata": {},
   "source": [
    "#### Testing the function"
   ]
  },
  {
   "cell_type": "code",
   "execution_count": 8,
   "id": "ca577498",
   "metadata": {},
   "outputs": [],
   "source": [
    "# passing only the number of wheels \n",
    "# other parameters can be taken from user also\n",
    "\n",
    "honda = Car(4)"
   ]
  },
  {
   "cell_type": "code",
   "execution_count": 9,
   "id": "3d96ed33",
   "metadata": {},
   "outputs": [
    {
     "name": "stdout",
     "output_type": "stream",
     "text": [
      "A red colored car with a maximum speed of 200 km/h is priced at 500000 with 4 tires\n"
     ]
    }
   ],
   "source": [
    "honda.printCar()"
   ]
  },
  {
   "cell_type": "markdown",
   "id": "f3ed3a17",
   "metadata": {},
   "source": [
    "### Task 3"
   ]
  },
  {
   "cell_type": "code",
   "execution_count": 10,
   "id": "75c91130",
   "metadata": {},
   "outputs": [],
   "source": [
    "import pandas as pd"
   ]
  },
  {
   "cell_type": "code",
   "execution_count": 11,
   "id": "a3bba7e4",
   "metadata": {},
   "outputs": [],
   "source": [
    "s = pd.Series(['05Sep2009','13Sep2011','21Sep2010'])"
   ]
  },
  {
   "cell_type": "code",
   "execution_count": 12,
   "id": "5d474408",
   "metadata": {},
   "outputs": [
    {
     "data": {
      "text/plain": [
       "pandas.core.series.Series"
      ]
     },
     "execution_count": 12,
     "metadata": {},
     "output_type": "execute_result"
    }
   ],
   "source": [
    "type(s)"
   ]
  },
  {
   "cell_type": "code",
   "execution_count": 13,
   "id": "f749cd83",
   "metadata": {},
   "outputs": [],
   "source": [
    "# this function take the dataframe and converts in into the required format\n",
    "def changeDateTime(input_df,format=\"%d%b%Y\"):\n",
    "    # fetches the date column of the input_date\n",
    "    df = input_df['dates']\n",
    "    # changing the format of the date column\n",
    "    df =  pd.to_datetime(df,format=\"%d%b%Y\")\n",
    "    # df is now pandas series so converted into pandas dataframe\n",
    "    df = df.to_frame()\n",
    "    return df\n"
   ]
  },
  {
   "cell_type": "markdown",
   "id": "2af63849",
   "metadata": {},
   "source": [
    "#### Testing the function"
   ]
  },
  {
   "cell_type": "code",
   "execution_count": 14,
   "id": "f70c9ccf",
   "metadata": {},
   "outputs": [],
   "source": [
    "data_dict = {\n",
    "    \"dates\" : ['05Sep2009','13Sep2011','21Sep2010']\n",
    "}"
   ]
  },
  {
   "cell_type": "code",
   "execution_count": 15,
   "id": "95ab2246",
   "metadata": {},
   "outputs": [],
   "source": [
    "df = pd.DataFrame.from_dict(data_dict)"
   ]
  },
  {
   "cell_type": "code",
   "execution_count": 16,
   "id": "c8070ff2",
   "metadata": {},
   "outputs": [
    {
     "data": {
      "text/html": [
       "<div>\n",
       "<style scoped>\n",
       "    .dataframe tbody tr th:only-of-type {\n",
       "        vertical-align: middle;\n",
       "    }\n",
       "\n",
       "    .dataframe tbody tr th {\n",
       "        vertical-align: top;\n",
       "    }\n",
       "\n",
       "    .dataframe thead th {\n",
       "        text-align: right;\n",
       "    }\n",
       "</style>\n",
       "<table border=\"1\" class=\"dataframe\">\n",
       "  <thead>\n",
       "    <tr style=\"text-align: right;\">\n",
       "      <th></th>\n",
       "      <th>dates</th>\n",
       "    </tr>\n",
       "  </thead>\n",
       "  <tbody>\n",
       "    <tr>\n",
       "      <th>0</th>\n",
       "      <td>05Sep2009</td>\n",
       "    </tr>\n",
       "    <tr>\n",
       "      <th>1</th>\n",
       "      <td>13Sep2011</td>\n",
       "    </tr>\n",
       "    <tr>\n",
       "      <th>2</th>\n",
       "      <td>21Sep2010</td>\n",
       "    </tr>\n",
       "  </tbody>\n",
       "</table>\n",
       "</div>"
      ],
      "text/plain": [
       "       dates\n",
       "0  05Sep2009\n",
       "1  13Sep2011\n",
       "2  21Sep2010"
      ]
     },
     "execution_count": 16,
     "metadata": {},
     "output_type": "execute_result"
    }
   ],
   "source": [
    "df.head()"
   ]
  },
  {
   "cell_type": "code",
   "execution_count": 17,
   "id": "680bc1e6",
   "metadata": {},
   "outputs": [],
   "source": [
    "df = changeDateTime(df)"
   ]
  },
  {
   "cell_type": "code",
   "execution_count": 18,
   "id": "f2d11ef5",
   "metadata": {},
   "outputs": [
    {
     "data": {
      "text/html": [
       "<div>\n",
       "<style scoped>\n",
       "    .dataframe tbody tr th:only-of-type {\n",
       "        vertical-align: middle;\n",
       "    }\n",
       "\n",
       "    .dataframe tbody tr th {\n",
       "        vertical-align: top;\n",
       "    }\n",
       "\n",
       "    .dataframe thead th {\n",
       "        text-align: right;\n",
       "    }\n",
       "</style>\n",
       "<table border=\"1\" class=\"dataframe\">\n",
       "  <thead>\n",
       "    <tr style=\"text-align: right;\">\n",
       "      <th></th>\n",
       "      <th>dates</th>\n",
       "    </tr>\n",
       "  </thead>\n",
       "  <tbody>\n",
       "    <tr>\n",
       "      <th>0</th>\n",
       "      <td>2009-09-05</td>\n",
       "    </tr>\n",
       "    <tr>\n",
       "      <th>1</th>\n",
       "      <td>2011-09-13</td>\n",
       "    </tr>\n",
       "    <tr>\n",
       "      <th>2</th>\n",
       "      <td>2010-09-21</td>\n",
       "    </tr>\n",
       "  </tbody>\n",
       "</table>\n",
       "</div>"
      ],
      "text/plain": [
       "       dates\n",
       "0 2009-09-05\n",
       "1 2011-09-13\n",
       "2 2010-09-21"
      ]
     },
     "execution_count": 18,
     "metadata": {},
     "output_type": "execute_result"
    }
   ],
   "source": [
    "df"
   ]
  },
  {
   "cell_type": "code",
   "execution_count": null,
   "id": "1329f6f0",
   "metadata": {},
   "outputs": [],
   "source": []
  }
 ],
 "metadata": {
  "kernelspec": {
   "display_name": "Python 3",
   "language": "python",
   "name": "python3"
  },
  "language_info": {
   "codemirror_mode": {
    "name": "ipython",
    "version": 3
   },
   "file_extension": ".py",
   "mimetype": "text/x-python",
   "name": "python",
   "nbconvert_exporter": "python",
   "pygments_lexer": "ipython3",
   "version": "3.8.10"
  }
 },
 "nbformat": 4,
 "nbformat_minor": 5
}
